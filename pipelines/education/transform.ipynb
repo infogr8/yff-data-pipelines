{
 "cells": [
  {
   "cell_type": "code",
   "execution_count": 1,
   "metadata": {},
   "outputs": [],
   "source": [
    "import re\n",
    "import zipfile\n",
    "import pandas as pd\n",
    "\n",
    "from pathlib import Path"
   ]
  },
  {
   "cell_type": "markdown",
   "metadata": {},
   "source": [
    "Set up the output directory"
   ]
  },
  {
   "cell_type": "code",
   "execution_count": 2,
   "metadata": {},
   "outputs": [],
   "source": [
    "OUTPUT_DIR = Path('../../data/processed/dfe/')\n",
    "OUTPUT_DIR.mkdir(parents=True, exist_ok=True)"
   ]
  },
  {
   "cell_type": "markdown",
   "metadata": {},
   "source": [
    "Create a function to find the first matching filename in a zip file"
   ]
  },
  {
   "cell_type": "code",
   "execution_count": 3,
   "metadata": {},
   "outputs": [],
   "source": [
    "def get_filename(zip, pattern):\n",
    "    return next(d for d in zip.namelist() if re.search(pattern, d))"
   ]
  },
  {
   "cell_type": "markdown",
   "metadata": {},
   "source": [
    "Create a function to read the data"
   ]
  },
  {
   "cell_type": "code",
   "execution_count": 4,
   "metadata": {},
   "outputs": [],
   "source": [
    "def get_education_dataset(csv, query='True', drop_columns=[], id_vars=[], *args, **kwargs):\n",
    "    data = (\n",
    "        pd.read_csv(csv, *args, **kwargs)\n",
    "            .query(query)\n",
    "            # Remove columns that we don't want to include\n",
    "            .drop(columns=drop_columns)\n",
    "            .melt(id_vars=id_vars)\n",
    "        )\n",
    "    data.set_index(\n",
    "        data.columns[\n",
    "            ~data.columns.isin(['value'])\n",
    "        ].tolist(),\n",
    "        inplace=True\n",
    "    )\n",
    "    data.value = pd.to_numeric(data.value, errors='coerce')\n",
    "    \n",
    "    return data"
   ]
  },
  {
   "cell_type": "markdown",
   "metadata": {},
   "source": [
    "Create a function to report on the column values"
   ]
  },
  {
   "cell_type": "code",
   "execution_count": 5,
   "metadata": {},
   "outputs": [],
   "source": [
    "def get_metadata(data):\n",
    "    return pd.DataFrame(\n",
    "        data.index.levels,\n",
    "        index=data.index.names\n",
    "    ).apply(\n",
    "        lambda r: [x for x in r.tolist() if x is not None],\n",
    "        axis=1\n",
    "    )"
   ]
  },
  {
   "cell_type": "markdown",
   "metadata": {},
   "source": [
    "Load KS4 data"
   ]
  },
  {
   "cell_type": "code",
   "execution_count": 20,
   "metadata": {},
   "outputs": [],
   "source": [
    "with zipfile.ZipFile('../../data/raw/education/key-stage-4-performance.zip') as zip:  \n",
    "    with zip.open(get_filename(zip, r'\\d{4}_la_data_[a-z]+.csv$')) as csv:\n",
    "        ks4 = get_education_dataset(csv,\n",
    "                                    query='geographic_level == \"Local authority\"',\n",
    "                                    dtype={\n",
    "                                        'education_investment_area_flag': str,\n",
    "                                        'priority_area_flag': str\n",
    "                                    },\n",
    "                                    id_vars=[\n",
    "                                        'new_la_code',\n",
    "                                        'time_period',\n",
    "                                        'time_identifier',\n",
    "                                        'geographic_level', 'version', 'education_investment_area_flag',\n",
    "                                        'priority_area_flag', 'establishment_type_group', 'sex',\n",
    "                                    ],\n",
    "                                    drop_columns=[\n",
    "                                        # Dimensions\n",
    "                                        'country_code', 'la_name', 'country_name', 'region_code', 'region_name', 'old_la_code',\n",
    "                                        # Measures\n",
    "                                        't_schools', 't_pupils',\n",
    "                                        't_att8',  # 'avg_att8',\n",
    "                                        't_entbasics', 'pt_entbasics',\n",
    "                                        't_l2basics_95', 'pt_l2basics_95',\n",
    "                                        't_l2basics_94', 'pt_l2basics_94',\n",
    "                                        't_ebacc_e_ptq_ee', 'pt_ebacc_e_ptq_ee',\n",
    "                                        't_ebacc_95', 'pt_ebacc_95',\n",
    "                                        't_ebacc_94', 'pt_ebacc_94',\n",
    "                                        't_ebaccaps', 'avg_ebaccaps',\n",
    "                                        't_inp8calc',\n",
    "                                        't_p8score',\n",
    "                                        # 'avg_p8score',\n",
    "                                        'p8score_ci_low', 'p8score_ci_upp',\n",
    "                                        't_p8eng', 'avg_p8eng', 'p8eng_ci_low', 'p8eng_ci_upp',\n",
    "                                        't_p8mat', 'avg_p8mat', 'p8mat_ci_low', 'p8mat_ci_upp',\n",
    "                                        't_p8ebac', 'avg_p8ebac', 'p8ebac_ci_low', 'p8ebac_ci_upp',\n",
    "                                        't_p8open', 'avg_p8open', 'p8open_ci_low', 'p8open_ci_upp',\n",
    "                                        't_entry_1', 'pt_entry_1',\n",
    "                                        't_anypass', 'pt_anypass',\n",
    "                                        't_ebaceng_e', 'pt_ebaceng_e',\n",
    "                                        't_ebacmat_e', 'pt_ebacmat_e',\n",
    "                                        't_ebac2sci_e', 'pt_ebac2sci_e',\n",
    "                                        't_ebachum_e', 'pt_ebachum_e',\n",
    "                                        't_ebaclan_e', 'pt_ebaclan_e',\n",
    "                                        't_ebaceng_95', 'pt_ebaceng_95',\n",
    "                                        't_ebacmat_95', 'pt_ebacmat_95',\n",
    "                                        't_ebac2sci_95', 'pt_ebac2sci_95',\n",
    "                                        't_ebachum_95', 'pt_ebachum_95',\n",
    "                                        't_ebaclan_95', 'pt_ebaclan_95',\n",
    "                                        't_ebaceng_94', 'pt_ebaceng_94',\n",
    "                                        't_ebacmat_94', 'pt_ebacmat_94',\n",
    "                                        't_ebac2sci_94', 'pt_ebac2sci_94',\n",
    "                                        't_ebachum_94', 'pt_ebachum_94',\n",
    "                                        't_ebaclan_94', 'pt_ebaclan_94',\n",
    "                                        't_ebptseng_ll', 'avg_ebptseng_ll',\n",
    "                                        't_ebptsmat', 'avg_ebptsmat',\n",
    "                                        't_ebptssci', 'avg_ebptssci',\n",
    "                                        't_ebptshum', 'avg_ebptshum',\n",
    "                                        't_ebptslan', 'avg_ebptslan',\n",
    "                                        't_att8_eng', 'avg_att8_eng',\n",
    "                                        't_att8_mat', 'avg_att8_mat',\n",
    "                                        't_att8_ebac', 'avg_att8_ebac',\n",
    "                                        't_att8_open', 'avg_att8_open',\n",
    "                                        't_att8_open_g', 'avg_att8_open_g',\n",
    "                                        't_att8_open_ng', 'avg_att8_open_ng',\n",
    "                                        't_ebac_fill', 'avg_ebac_fill',\n",
    "                                        't_open_fill', 'avg_open_fill'\n",
    "                                    ])\n",
    "\n",
    "    with zip.open(get_filename(zip, r'\\d{4}_la_char_data_[a-z]+.csv$')) as csv:\n",
    "        ks4_char = get_education_dataset(csv,\n",
    "                                         query='geographic_level == \"Local authority\"',\n",
    "                                         dtype={\n",
    "                                             'education_investment_area_flag': str,\n",
    "                                             'priority_area_flag': str\n",
    "                                         },\n",
    "                                         id_vars=[\n",
    "                                             'new_la_code',\n",
    "                                             'time_period',\n",
    "                                             'time_identifier',\n",
    "                                             'geographic_level', 'version', 'education_investment_area_flag',\n",
    "                                             'priority_area_flag', 'establishment_type_group', 'sex', 'breakdown',\n",
    "                                             'ethnicity_major', 'free_school_meals', 'sen_status', 'sen_provision', 'disadvantage', 'first_language'\n",
    "                                         ],\n",
    "                                         drop_columns=[\n",
    "                                             # Dimensions\n",
    "                                             'country_code', 'la_name', 'country_name', 'region_code', 'region_name', 'old_la_code',\n",
    "                                             # Measures\n",
    "                                             't_schools', 't_pupils',\n",
    "                                             't_att8',\n",
    "                                             # 'avg_att8',\n",
    "                                             't_entbasics', 'pt_entbasics',\n",
    "                                             't_l2basics_95', 'pt_l2basics_95',\n",
    "                                             't_l2basics_94', 'pt_l2basics_94',\n",
    "                                             't_ebacc_e_ptq_ee', 'pt_ebacc_e_ptq_ee',\n",
    "                                             't_ebacc_95', 'pt_ebacc_95',\n",
    "                                             't_ebacc_94', 'pt_ebacc_94',\n",
    "                                             't_ebaccaps', 'avg_ebaccaps',\n",
    "                                             't_inp8calc', 't_p8score',\n",
    "                                             # 'avg_p8score',\n",
    "                                             'p8score_ci_low', 'p8score_ci_upp'\n",
    "                                         ])"
   ]
  },
  {
   "cell_type": "markdown",
   "metadata": {},
   "source": [
    "Interested in destinations at a Local Authority District (i.e. Lower-Tier Local Authority).\n",
    "\n",
    "Using the KS4 Provider location as a proxy for residence LAD, as people tend to live closer to school than closer to college.\n",
    "\n",
    "Also assuming that cohort level group is not a relevant breakdown for analysis."
   ]
  },
  {
   "cell_type": "code",
   "execution_count": null,
   "metadata": {},
   "outputs": [],
   "source": [
    "with zipfile.ZipFile('../../data/raw/education/16-18-destination-measures.zip') as zip:\n",
    "    with zip.open(get_filename(zip, r'data/1618_dm_ud_\\d{6}_la_[a-z]+.csv')) as csv:\n",
    "        destinations = get_education_dataset(csv,\n",
    "                                             query='geographic_level == \"Local authority district\" & level_methodology == \"KS4 Provider location\" & cohort_level_group == \"Total\"',\n",
    "                                             id_vars=[\n",
    "                                                 'time_period',\n",
    "                                                 'lad_code',\n",
    "                                                 'breakdown_topic',\n",
    "                                                 'breakdown',\n",
    "                                                 'data_type',\n",
    "                                                 'version',\n",
    "                                             ],\n",
    "                                             drop_columns=[\n",
    "                                                 # Dimensions\n",
    "                                                 'country_code', 'country_name',\n",
    "                                                 'region_code', 'region_name',\n",
    "                                                 'old_la_code', 'new_la_code', 'la_name',\n",
    "                                                 'pcon_code', 'pcon_name',\n",
    "                                                 'lad_name',\n",
    "                                                 'opportunity_area_code', 'opportunity_area_name',\n",
    "                                                 'time_identifier',\n",
    "                                                 'geographic_level',\n",
    "                                                 'cohort_level_group',\n",
    "                                                 'cohort_level',\n",
    "                                                 'institution_group',\n",
    "                                                 'institution_type',\n",
    "                                                 'level_methodology',\n",
    "\n",
    "                                                 # Variables\n",
    "                                                 'all_unknown',\n",
    "                                                 'all_work',\n",
    "                                                 'appren',\n",
    "                                                 'cohort',\n",
    "                                                 'education',\n",
    "                                                 'fel1',\n",
    "                                                 'fel2',\n",
    "                                                 'fel3',\n",
    "                                                 'other_edu',\n",
    "\n",
    "                                                 # Keep the variables below...\n",
    "                                                 # 'fe', 'he', 'all_notsust', 'overall' 'appl2', 'appl3', 'appl4',\n",
    "                                             ])"
   ]
  },
  {
   "cell_type": "markdown",
   "metadata": {},
   "source": [
    "Save files and metadata"
   ]
  },
  {
   "cell_type": "code",
   "execution_count": null,
   "metadata": {},
   "outputs": [],
   "source": [
    "ks4.to_csv(OUTPUT_DIR.joinpath('ks4_outcomes.csv'), index=True)\n",
    "ks4.to_parquet(OUTPUT_DIR.joinpath('ks4_outcomes.parquet'), index=True)\n",
    "ks4.pipe(get_metadata).to_json(OUTPUT_DIR.joinpath('ks4_outcomes.metadata.json'), indent=2)\n",
    "\n",
    "ks4_char.to_csv(OUTPUT_DIR.joinpath('ks4_char_outcomes.csv'), index=True)\n",
    "ks4_char.to_parquet(OUTPUT_DIR.joinpath('ks4_char_outcomes.parquet'), index=True)\n",
    "ks4_char.pipe(get_metadata).to_json(OUTPUT_DIR.joinpath('ks4_char_outcomes.metadata.json'), indent=2)\n",
    "\n",
    "destinations.to_csv(OUTPUT_DIR.joinpath('destinations.csv'), index=True)\n",
    "destinations.to_parquet(OUTPUT_DIR.joinpath('destinations.parquet'), index=True)\n",
    "destinations.pipe(get_metadata).to_json(OUTPUT_DIR.joinpath('destinations.metadata.json'), indent=2)"
   ]
  },
  {
   "cell_type": "markdown",
   "metadata": {},
   "source": [
    "Example query of characteristic data: filter by `breakdown` to start with (and then any other queries). The associated column will then have the breakdown, and all other breakdowns will be set to Total. Refer to the metadata.json files for information about the values that can be queried."
   ]
  },
  {
   "cell_type": "code",
   "execution_count": null,
   "metadata": {},
   "outputs": [],
   "source": [
    "ks4_char.reset_index().query(\"breakdown == 'Free school meals' and time_period == 202223\")"
   ]
  },
  {
   "cell_type": "code",
   "execution_count": null,
   "metadata": {},
   "outputs": [],
   "source": []
  }
 ],
 "metadata": {
  "kernelspec": {
   "display_name": "yff-data-pipeline-9Di0ELhI",
   "language": "python",
   "name": "python3"
  },
  "language_info": {
   "codemirror_mode": {
    "name": "ipython",
    "version": 3
   },
   "file_extension": ".py",
   "mimetype": "text/x-python",
   "name": "python",
   "nbconvert_exporter": "python",
   "pygments_lexer": "ipython3",
   "version": "3.10.12"
  },
  "orig_nbformat": 4
 },
 "nbformat": 4,
 "nbformat_minor": 2
}
