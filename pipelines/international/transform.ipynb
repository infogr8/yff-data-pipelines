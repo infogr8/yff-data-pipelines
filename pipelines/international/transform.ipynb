{
 "cells": [
  {
   "cell_type": "code",
   "execution_count": null,
   "metadata": {},
   "outputs": [],
   "source": [
    "from pathlib import Path\n",
    "import pandas as pd"
   ]
  },
  {
   "cell_type": "markdown",
   "metadata": {},
   "source": [
    "Setup input dir."
   ]
  },
  {
   "cell_type": "code",
   "execution_count": null,
   "metadata": {},
   "outputs": [],
   "source": [
    "RAW_DATA = Path('../../data/raw/oecd/')\n",
    "REF_DATA = Path('../../data/reference')"
   ]
  },
  {
   "cell_type": "markdown",
   "metadata": {},
   "source": [
    "Create output dir"
   ]
  },
  {
   "cell_type": "code",
   "execution_count": null,
   "metadata": {},
   "outputs": [],
   "source": [
    "OUTPUT_DIR = Path('../../data/processed/oecd/')\n",
    "OUTPUT_DIR.mkdir(parents=True, exist_ok=True)"
   ]
  },
  {
   "cell_type": "markdown",
   "metadata": {},
   "source": [
    "Process the LFS data"
   ]
  },
  {
   "cell_type": "code",
   "execution_count": null,
   "metadata": {},
   "outputs": [],
   "source": [
    "lfs = pd.read_csv(\n",
    "    RAW_DATA.joinpath('lfs_by_sex_and_age.csv'),\n",
    "    usecols = [   \n",
    "        'REF_AREA',\n",
    "        'Reference area',\n",
    "        'Sex',\n",
    "        'Age',\n",
    "        'Measure',\n",
    "        'Frequency of observation',\n",
    "        'TIME_PERIOD',\n",
    "        'Unit multiplier',\n",
    "        'OBS_VALUE'\n",
    "    ]\n",
    ")\n",
    "\n",
    "lfs.columns = lfs.columns.str.strip()\n",
    "\n",
    "lfs.rename(\n",
    "  columns={\n",
    "    'REF_AREA': 'country_code',\n",
    "    'Reference area': 'country',\n",
    "    'Sex': 'sex',\n",
    "    'Age': 'age',\n",
    "    'Measure': 'measure',\n",
    "    'Frequency of observation': 'frequency',\n",
    "    'TIME_PERIOD': 'time_period',\n",
    "    'Unit multiplier': 'units',\n",
    "    'OBS_VALUE': 'value'\n",
    "  },\n",
    "  inplace=True\n",
    ")\n",
    "\n",
    "lfs.to_csv(OUTPUT_DIR.joinpath('lfs_by_sex_and_age.csv'), index=False)"
   ]
  },
  {
   "cell_type": "markdown",
   "metadata": {},
   "source": [
    "Process the NEET data (moved to separate file)"
   ]
  },
  {
   "cell_type": "markdown",
   "metadata": {},
   "source": [
    "Process the wage levels data (moved to separate file)"
   ]
  },
  {
   "cell_type": "markdown",
   "metadata": {},
   "source": [
    "Process education attainment data"
   ]
  },
  {
   "cell_type": "code",
   "execution_count": null,
   "metadata": {},
   "outputs": [],
   "source": [
    "education_attainment = pd.read_csv(\n",
    "    REF_DATA.joinpath('attainment_outcomes_skills.csv'),\n",
    "    usecols=[\n",
    "      'COUNTRY',\n",
    "      'Country',\n",
    "      'ISCED-A 2011',\n",
    "      'Gender',\n",
    "      'Age',\n",
    "      'PIAAC_CATEGORY',\n",
    "      'Category',\n",
    "      'Indicator',\n",
    "      'Measure', \n",
    "      'YEAR',\n",
    "      'Value'\n",
    "    ]\n",
    ")\n",
    "\n",
    "education_attainment.columns = education_attainment.columns.str.strip()\n",
    "\n",
    "education_attainment.rename(\n",
    "  columns={\n",
    "    'COUNTRY': 'country_code',\n",
    "    'Country': 'country',\n",
    "    'ISCED-A 2011': 'isced',\n",
    "    'Gender': 'gender',\n",
    "    'Age': 'age',\n",
    "    'PIAAC_CATEGORY': 'piaac_category_code',\n",
    "    'Category': 'piaac_category',\n",
    "    'Indicator': 'indicator',\n",
    "    'Measure': 'measure',\n",
    "    'YEAR': 'year',\n",
    "    'Value': 'value'\n",
    "  },\n",
    "  inplace=True\n",
    ")\n",
    "\n",
    "education_attainment.to_csv(OUTPUT_DIR.joinpath('education_attainment.csv'), index=False)"
   ]
  }
 ],
 "metadata": {
  "kernelspec": {
   "display_name": "Python 3",
   "language": "python",
   "name": "python3"
  },
  "language_info": {
   "codemirror_mode": {
    "name": "ipython",
    "version": 3
   },
   "file_extension": ".py",
   "mimetype": "text/x-python",
   "name": "python",
   "nbconvert_exporter": "python",
   "pygments_lexer": "ipython3",
   "version": "3.10.12"
  },
  "orig_nbformat": 4
 },
 "nbformat": 4,
 "nbformat_minor": 2
}
